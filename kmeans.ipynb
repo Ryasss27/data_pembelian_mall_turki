import numpy as np
from sklearn.cluster import KMeans
import matplotlib.pyplot as plt

# Membuat dataset acak
np.random.seed(0)
X = np.random.rand(100, 2)

# Melakukan klustering dengan K-Means
kmeans = KMeans(n_clusters=3, random_state=0)
labels = kmeans.fit_predict(X)
centroids = kmeans.cluster_centers_

# Menampilkan hasil klustering
plt.scatter(X[:, 0], X[:, 1], c=labels)
plt.scatter(centroids[:, 0], centroids[:, 1], marker='x', color='r')
plt.title('K-Means Clustering')
plt.xlabel('X')
plt.ylabel('Y')
plt.show()
