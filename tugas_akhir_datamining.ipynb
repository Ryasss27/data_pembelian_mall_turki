# Impor library yang diperlukan
import pandas as pd
from sklearn.datasets import load_iris
from sklearn.model_selection import train_test_split
from sklearn.tree import DecisionTreeClassifier
from sklearn.metrics import accuracy_score, classification_report,
confusion_matrix
# URL dataset (Iris dataset dari UCI ML Repository)
url = 'https://archive.ics.uci.edu/ml/machine-learningdatabases/iris/iris.data'
# Kolom-kolom dataset Iris
columns = ['sepal_length', 'sepal_width', 'petal_length',
'petal_width', 'species']
# Membaca dataset dari URL
dataset = pd.read_csv(url, names=columns)
# Preprocessing Data (tidak diperlukan dalam contoh ini)
# Pembagian Dataset
X = dataset.drop('species', axis=1)
y = dataset['species']
X_train, X_test, y_train, y_test = train_test_split(X, y,
test_size=0.3, random_state=42)
# Pelatihan Model (Decision Tree)
dt_model = DecisionTreeClassifier(random_state=42)
dt_model.fit(X_train, y_train)
# Evaluasi Model
y_pred = dt_model.predict(X_test)
accuracy = accuracy_score(y_test, y_pred)
classification_rep = classification_report(y_test, y_pred)
conf_matrix = confusion_matrix(y_test, y_pred)
# Menampilkan Hasil
print("Akurasi:", accuracy)
print("Classification Report:")
print(classification_rep)
print("Confusion Matrix:")
print(conf_matrix